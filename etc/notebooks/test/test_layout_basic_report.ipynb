{
 "cells": [
  {
   "cell_type": "markdown",
   "metadata": {
    "urth": {
     "dashboard": {}
    }
   },
   "source": [
    "# Basic Dashboard Layout Test"
   ]
  },
  {
   "cell_type": "code",
   "execution_count": null,
   "metadata": {
    "collapsed": true,
    "urth": {
     "dashboard": {
      "hidden": true
     }
    }
   },
   "outputs": [],
   "source": [
    "from IPython.display import Image"
   ]
  },
  {
   "cell_type": "markdown",
   "metadata": {
    "urth": {
     "dashboard": {}
    }
   },
   "source": [
    "Pull a static image inline into the notebook."
   ]
  },
  {
   "cell_type": "code",
   "execution_count": null,
   "metadata": {
    "collapsed": false,
    "urth": {
     "dashboard": {
      "layout": {}
     }
    }
   },
   "outputs": [],
   "source": [
    "Image('https://upload.wikimedia.org/wikipedia/commons/8/85/Urd_magazine.jpg')"
   ]
  },
  {
   "cell_type": "code",
   "execution_count": null,
   "metadata": {
    "collapsed": false,
    "urth": {
     "dashboard": {
      "hidden": true
     }
    }
   },
   "outputs": [],
   "source": [
    "from IPython.display import display\n",
    "from ipywidgets import FloatText, FloatSlider, FloatProgress\n",
    "from traitlets import link"
   ]
  },
  {
   "cell_type": "code",
   "execution_count": null,
   "metadata": {
    "collapsed": false,
    "urth": {
     "dashboard": {
      "layout": {}
     }
    }
   },
   "outputs": [],
   "source": [
    "a = FloatText()\n",
    "b = FloatSlider()\n",
    "c = FloatProgress()\n",
    "display(a,b,c)\n",
    "\n",
    "link1 = link((a, 'value'), (b, 'value'))\n",
    "link2 = link((a, 'value'), (c, 'value'))"
   ]
  },
  {
   "cell_type": "markdown",
   "metadata": {
    "urth": {
     "dashboard": {}
    }
   },
   "source": [
    "## &larr; Widgets Test\n",
    "\n",
    "The widgets to the left should update as you interact with any of them."
   ]
  },
  {
   "cell_type": "code",
   "execution_count": null,
   "metadata": {
    "collapsed": true,
    "urth": {
     "dashboard": {
      "hidden": true
     }
    }
   },
   "outputs": [],
   "source": []
  }
 ],
 "metadata": {
  "celltoolbar": "Section",
  "kernelspec": {
   "display_name": "Python 3",
   "language": "python",
   "name": "python3"
  },
  "language_info": {
   "codemirror_mode": {
    "name": "ipython",
    "version": 3
   },
   "file_extension": ".py",
   "mimetype": "text/x-python",
   "name": "python",
   "nbconvert_exporter": "python",
   "pygments_lexer": "ipython3",
   "version": "3.4.4"
  },
  "urth": {
   "dashboard": {
    "layout": "report"
   }
  }
 },
 "nbformat": 4,
 "nbformat_minor": 0
}
