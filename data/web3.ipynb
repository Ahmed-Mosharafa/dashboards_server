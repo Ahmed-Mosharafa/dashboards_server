{
 "cells": [
  {
   "cell_type": "markdown",
   "metadata": {
    "urth": {
     "dashboard": {
      "layout": {
       "col": 4,
       "height": 3,
       "row": 0,
       "width": 4
      }
     }
    }
   },
   "source": [
    "### Slider/Text Box example\n",
    "taken from [ipywidgets/web3 example](https://github.com/ipython/ipywidgets/tree/master/examples/development/web3)"
   ]
  },
  {
   "cell_type": "code",
   "execution_count": null,
   "metadata": {
    "collapsed": true,
    "urth": {
     "dashboard": {
      "layout": {
       "col": 4,
       "height": 4,
       "row": 3,
       "width": 5
      }
     }
    }
   },
   "outputs": [],
   "source": [
    "from ipywidgets import IntSlider, Text, VBox\n",
    "from IPython.display import display\n",
    "\n",
    "s = IntSlider(max=200, value=100)\n",
    "t = Text()\n",
    "def update_text():\n",
    "    t.value = str(s.value ** 2)\n",
    "s.on_trait_change(update_text, 'value')\n",
    "display(VBox([s, t]))"
   ]
  }
 ],
 "metadata": {
  "kernelspec": {
   "display_name": "Python 3",
   "language": "python",
   "name": "python3"
  },
  "language_info": {
   "codemirror_mode": {
    "name": "ipython",
    "version": 3
   },
   "file_extension": ".py",
   "mimetype": "text/x-python",
   "name": "python",
   "nbconvert_exporter": "python",
   "pygments_lexer": "ipython3",
   "version": "3.4.3"
  },
  "urth": {
   "dashboard": {
    "cellMargin": 10,
    "defaultCellHeight": 20,
    "layoutStrategy": "packed",
    "maxColumns": 12
   }
  }
 },
 "nbformat": 4,
 "nbformat_minor": 0
}
