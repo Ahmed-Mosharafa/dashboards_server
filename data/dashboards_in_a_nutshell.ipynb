{
 "cells": [
  {
   "cell_type": "markdown",
   "metadata": {
    "urth": {
     "dashboard": {
      "layout": {
       "col": 0,
       "height": 4,
       "row": 0,
       "width": 12
      }
     }
    }
   },
   "source": [
    "# Jupyter Dashboards in a nutshell\n",
    "\n",
    "This notebook demonstrates the basics of laying out and viewing a notebook as a dashboard with some simple plots and minimal interactivity. We'll use Python, a public dataset, and ipywidgets."
   ]
  },
  {
   "cell_type": "markdown",
   "metadata": {
    "urth": {
     "dashboard": {
      "hidden": true
     }
    }
   },
   "source": [
    "When complete, it will look something like this:\n",
    "\n",
    "<img src=\"http://i.imgur.com/6lwBoKj.png\" width=\"50%\" />"
   ]
  },
  {
   "cell_type": "markdown",
   "metadata": {
    "urth": {
     "dashboard": {
      "hidden": true
     }
    }
   },
   "source": [
    "## Setup"
   ]
  },
  {
   "cell_type": "markdown",
   "metadata": {
    "urth": {
     "dashboard": {
      "hidden": true
     }
    }
   },
   "source": [
    "First, let's get setup by enabling inline plotting, disabling ugly warnings, and loading the sample dataset."
   ]
  },
  {
   "cell_type": "code",
   "execution_count": null,
   "metadata": {
    "collapsed": false,
    "urth": {
     "dashboard": {}
    }
   },
   "outputs": [],
   "source": [
    "%matplotlib inline"
   ]
  },
  {
   "cell_type": "code",
   "execution_count": null,
   "metadata": {
    "collapsed": true,
    "urth": {
     "dashboard": {}
    }
   },
   "outputs": [],
   "source": [
    "import warnings\n",
    "warnings.filterwarnings('ignore')"
   ]
  },
  {
   "cell_type": "code",
   "execution_count": null,
   "metadata": {
    "collapsed": false,
    "urth": {
     "dashboard": {}
    }
   },
   "outputs": [],
   "source": [
    "import pandas as pd\n",
    "import seaborn as sns"
   ]
  },
  {
   "cell_type": "code",
   "execution_count": null,
   "metadata": {
    "collapsed": false,
    "urth": {
     "dashboard": {}
    }
   },
   "outputs": [],
   "source": [
    "raw_df = sns.load_dataset('attention')"
   ]
  },
  {
   "cell_type": "markdown",
   "metadata": {
    "urth": {
     "dashboard": {
      "hidden": true
     }
    }
   },
   "source": [
    "The output of `load_dataset` is a Pandas DataFrame object. We can ask for the first few rows."
   ]
  },
  {
   "cell_type": "code",
   "execution_count": null,
   "metadata": {
    "collapsed": false,
    "urth": {
     "dashboard": {
      "hidden": true
     }
    }
   },
   "outputs": [],
   "source": [
    "raw_df.head()"
   ]
  },
  {
   "cell_type": "markdown",
   "metadata": {
    "urth": {
     "dashboard": {
      "hidden": true
     }
    }
   },
   "source": [
    "The first two columns are subject identifiers which we can toss."
   ]
  },
  {
   "cell_type": "code",
   "execution_count": null,
   "metadata": {
    "collapsed": false,
    "urth": {
     "dashboard": {}
    }
   },
   "outputs": [],
   "source": [
    "df = raw_df.ix[:, 2:]"
   ]
  },
  {
   "cell_type": "markdown",
   "metadata": {
    "urth": {
     "dashboard": {
      "hidden": true
     }
    }
   },
   "source": [
    "Now we're left with what appears to be results from an study where participants were asked to complete some set of tasks which were then scored. Some participants had full attention on the tasks while others had to attend to some other confounding task at the same time."
   ]
  },
  {
   "cell_type": "code",
   "execution_count": null,
   "metadata": {
    "collapsed": false,
    "urth": {
     "dashboard": {
      "hidden": true
     }
    }
   },
   "outputs": [],
   "source": [
    "df.head()"
   ]
  },
  {
   "cell_type": "markdown",
   "metadata": {
    "urth": {
     "dashboard": {
      "layout": {
       "col": 0,
       "height": 3,
       "row": 4,
       "width": 5
      }
     }
    }
   },
   "source": [
    "## Exercise #1: A Static Plot"
   ]
  },
  {
   "cell_type": "markdown",
   "metadata": {
    "urth": {
     "dashboard": {
      "hidden": true
     }
    }
   },
   "source": [
    "Let's say we wanted to show a non-technical user the distribution of the number of solutions and the scores assigned to those solutions between the two attention groups. We can use a pairplot to do so."
   ]
  },
  {
   "cell_type": "code",
   "execution_count": null,
   "metadata": {
    "collapsed": false,
    "urth": {
     "dashboard": {
      "layout": {
       "col": 0,
       "height": 13,
       "row": 7,
       "width": 5
      }
     }
    }
   },
   "outputs": [],
   "source": [
    "_ = sns.pairplot(df, hue='attention')"
   ]
  },
  {
   "cell_type": "markdown",
   "metadata": {
    "urth": {
     "dashboard": {
      "hidden": true
     }
    }
   },
   "source": [
    "Now let's say we wanted to show the plot without all the code or other gorp in this notebook surrounding it.\n",
    "\n",
    "1. Click *View -> Dashboard Layout* (or use the *View:* <i class=\"fa-th-large fa\"></i> toolbar button that looks like a grid).\n",
    "2. Click *Cell -> Dashboard -> Hide all cells*\n",
    "3. Drag drop just the cells of interest back into the notebook.\n",
    "4. Click *View -> Dashboard Preview* (or use the *View:* <i class=\"fa-dashboard fa\"></i> toolbar button that looks like a car dashboard).\n",
    "\n",
    "The notebook file captures the layout metadata. If you save this notebook and send it to colleague, she can open it and preview the dashboard if she has the notebook extension installed."
   ]
  },
  {
   "cell_type": "markdown",
   "metadata": {
    "urth": {
     "dashboard": {
      "layout": {
       "col": 7,
       "height": 3,
       "row": 4,
       "width": 5
      }
     }
    }
   },
   "source": [
    "## Exercise #2: Simple Interactivity"
   ]
  },
  {
   "cell_type": "markdown",
   "metadata": {
    "urth": {
     "dashboard": {
      "hidden": true
     }
    }
   },
   "source": [
    "Now let's add some simple interactivity to let the user pick which column should be used to group/colorize the data in the same plot.\n",
    "\n",
    "Since we're in Python for this tutorial, we can use ipywidgets."
   ]
  },
  {
   "cell_type": "code",
   "execution_count": null,
   "metadata": {
    "collapsed": true,
    "urth": {
     "dashboard": {}
    }
   },
   "outputs": [],
   "source": [
    "from ipywidgets import interact"
   ]
  },
  {
   "cell_type": "markdown",
   "metadata": {
    "urth": {
     "dashboard": {
      "hidden": true
     }
    }
   },
   "source": [
    "We need a tuple of all the column names."
   ]
  },
  {
   "cell_type": "code",
   "execution_count": null,
   "metadata": {
    "collapsed": true,
    "urth": {
     "dashboard": {}
    }
   },
   "outputs": [],
   "source": [
    "by_vals = tuple(list(df.columns))"
   ]
  },
  {
   "cell_type": "markdown",
   "metadata": {
    "urth": {
     "dashboard": {
      "hidden": true
     }
    }
   },
   "source": [
    "The `@interact` decorator automatically adds a rudimentary widget for each parameter passed to a function. Here, we pass the possible list of choice to group by. The function re-runs any time the user picks a new value from the dropdown. We generate a new plot each time."
   ]
  },
  {
   "cell_type": "code",
   "execution_count": null,
   "metadata": {
    "collapsed": false,
    "urth": {
     "dashboard": {
      "layout": {
       "col": 7,
       "height": 14,
       "row": 7,
       "width": 5
      }
     }
    }
   },
   "outputs": [],
   "source": [
    "@interact(group_by=by_vals)\n",
    "def plot_by(group_by):\n",
    "    sns.pairplot(df, hue=group_by)"
   ]
  },
  {
   "cell_type": "markdown",
   "metadata": {
    "urth": {
     "dashboard": {
      "hidden": true
     }
    }
   },
   "source": [
    "Again, we can switch to dashboard layout mode and show the dropdown + plot alone."
   ]
  },
  {
   "cell_type": "markdown",
   "metadata": {
    "urth": {
     "dashboard": {
      "layout": {
       "col": 0,
       "height": 3,
       "row": 20,
       "width": 5
      }
     }
    }
   },
   "source": [
    "## Example #3: Another Plot"
   ]
  },
  {
   "cell_type": "markdown",
   "metadata": {
    "urth": {
     "dashboard": {
      "hidden": true
     }
    }
   },
   "source": [
    "And of course, we can have more than one interactive widget area in the dashboard."
   ]
  },
  {
   "cell_type": "code",
   "execution_count": null,
   "metadata": {
    "collapsed": false,
    "urth": {
     "dashboard": {
      "layout": {
       "col": 0,
       "height": 16,
       "row": 23,
       "width": 5
      }
     }
    }
   },
   "outputs": [],
   "source": [
    "@interact(group_by=by_vals)\n",
    "def plot_by_again(group_by='solutions'):\n",
    "    sns.pairplot(df, hue=group_by)"
   ]
  },
  {
   "cell_type": "markdown",
   "metadata": {
    "urth": {
     "dashboard": {
      "hidden": true
     }
    }
   },
   "source": [
    "## Next Steps\n",
    "\n",
    "* If you need to build more complicated interactivity into your notebook application, check out https://github.com/jupyter-incubator/declarativewidgets.\n",
    "* If you're sticking with Python and just want more interactive plots in your notebook, try using a library like plot.ly or bokeh.\n",
    "* If you're interested in deploying your notebook-dashboards as standalone applications, check out https://github.com/jupyter-incubator/dashboards_bundlers.\n",
    "* If you want to see other examples of notebooks as dashboards, try the examples at http://jupyter.cloudet.xyz."
   ]
  }
 ],
 "metadata": {
  "kernelspec": {
   "display_name": "Python 3",
   "language": "python",
   "name": "python3"
  },
  "language_info": {
   "codemirror_mode": {
    "name": "ipython",
    "version": 3
   },
   "file_extension": ".py",
   "mimetype": "text/x-python",
   "name": "python",
   "nbconvert_exporter": "python",
   "pygments_lexer": "ipython3",
   "version": "3.4.4"
  },
  "urth": {
   "dashboard": {
    "cellMargin": 10,
    "defaultCellHeight": 20,
    "layoutStrategy": "packed",
    "maxColumns": 12
   }
  }
 },
 "nbformat": 4,
 "nbformat_minor": 0
}
