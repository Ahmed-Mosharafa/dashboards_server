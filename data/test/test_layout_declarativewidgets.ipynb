{
 "cells": [
  {
   "cell_type": "markdown",
   "metadata": {
    "urth": {
     "dashboard": {
      "layout": {
       "col": 0,
       "height": 3,
       "row": 0,
       "width": 12
      }
     }
    }
   },
   "source": [
    "# Declarative Widgets in a Dashboard Layout Test"
   ]
  },
  {
   "cell_type": "markdown",
   "metadata": {
    "urth": {
     "dashboard": {
      "layout": {
       "col": 0,
       "height": 4,
       "row": 3,
       "width": 3
      }
     }
    }
   },
   "source": [
    "Here is a `paper-input` widget from the Polymer catalog."
   ]
  },
  {
   "cell_type": "code",
   "execution_count": null,
   "metadata": {
    "collapsed": false,
    "urth": {
     "dashboard": {
      "layout": {
       "col": 3,
       "height": 4,
       "row": 3,
       "width": 9
      }
     }
    }
   },
   "outputs": [],
   "source": [
    "%%html\n",
    "<link rel='import' href='urth_components/paper-input/paper-input.html' \n",
    "        is='urth-core-import' package='PolymerElements/paper-input'>\n",
    "\n",
    "<paper-input label=\"Enter some text\"></paper-input>"
   ]
  },
  {
   "cell_type": "markdown",
   "metadata": {
    "urth": {
     "dashboard": {
      "layout": {
       "col": 0,
       "height": 4,
       "row": 7,
       "width": 3
      }
     }
    }
   },
   "source": [
    "And here is a `paper-dropdown-menu` widget from the Polymer catalog."
   ]
  },
  {
   "cell_type": "code",
   "execution_count": null,
   "metadata": {
    "collapsed": false,
    "urth": {
     "dashboard": {
      "layout": {
       "col": 3,
       "height": 4,
       "row": 7,
       "width": 4
      }
     }
    }
   },
   "outputs": [],
   "source": [
    "%%html\n",
    "<link rel=\"import\" href=\"urth_components/paper-dropdown-menu/paper-dropdown-menu.html\" \n",
    "        is='urth-core-import' package='PolymerElements/paper-dropdown-menu'>\n",
    "<link rel=\"import\" href=\"urth_components/paper-item/paper-item.html\" \n",
    "        is='urth-core-import' package='PolymerElements/paper-item'>\n",
    "\n",
    "<paper-dropdown-menu label=\"Select Something\" noink>\n",
    "    <paper-menu class=\"dropdown-content\" attr-for-selected=\"label\">\n",
    "        <paper-item label=\"A\">A</paper-item>    \n",
    "        <paper-item label=\"B\">B</paper-item>    \n",
    "        <paper-item label=\"C\">C</paper-item>    \n",
    "    </paper-menu>\n",
    "</paper-dropdown-menu>"
   ]
  },
  {
   "cell_type": "code",
   "execution_count": null,
   "metadata": {
    "collapsed": true,
    "urth": {
     "dashboard": {
      "hidden": true
     }
    }
   },
   "outputs": [],
   "source": []
  }
 ],
 "metadata": {
  "celltoolbar": "Section",
  "kernelspec": {
   "display_name": "Python 3",
   "language": "python",
   "name": "python3"
  },
  "language_info": {
   "codemirror_mode": {
    "name": "ipython",
    "version": 3
   },
   "file_extension": ".py",
   "mimetype": "text/x-python",
   "name": "python",
   "nbconvert_exporter": "python",
   "pygments_lexer": "ipython3",
   "version": "3.4.3"
  },
  "urth": {
   "dashboard": {
    "cellMargin": 10,
    "defaultCellHeight": 20,
    "maxColumns": 12
   }
  }
 },
 "nbformat": 4,
 "nbformat_minor": 0
}
