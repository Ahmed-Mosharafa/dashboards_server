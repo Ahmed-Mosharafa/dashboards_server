{
 "cells": [
  {
   "cell_type": "markdown",
   "metadata": {
    "urth": {
     "dashboard": {
      "layout": {
       "col": 0,
       "height": 3,
       "row": 0,
       "width": 12
      }
     }
    }
   },
   "source": [
    "# Test widget overlap\n",
    "\n",
    "Make sure that the dropdown appears on top of the table both in notebook mode and dashboard mode."
   ]
  },
  {
   "cell_type": "code",
   "execution_count": 1,
   "metadata": {
    "collapsed": false,
    "urth": {
     "dashboard": {
      "hidden": true
     }
    }
   },
   "outputs": [],
   "source": [
    "from ipywidgets import interact\n",
    "from IPython.display import display\n",
    "import pandas as pd\n",
    "import numpy as np"
   ]
  },
  {
   "cell_type": "code",
   "execution_count": 2,
   "metadata": {
    "collapsed": false,
    "urth": {
     "dashboard": {
      "layout": {
       "col": 0,
       "height": 8,
       "row": 3,
       "width": 12
      }
     }
    }
   },
   "outputs": [
    {
     "data": {
      "text/html": [
       "<div>\n",
       "<table border=\"1\" class=\"dataframe\">\n",
       "  <thead>\n",
       "    <tr style=\"text-align: right;\">\n",
       "      <th></th>\n",
       "      <th>0</th>\n",
       "      <th>1</th>\n",
       "      <th>2</th>\n",
       "      <th>3</th>\n",
       "      <th>4</th>\n",
       "    </tr>\n",
       "  </thead>\n",
       "  <tbody>\n",
       "    <tr>\n",
       "      <th>0</th>\n",
       "      <td>-0.530732</td>\n",
       "      <td>1.621146</td>\n",
       "      <td>-0.126288</td>\n",
       "      <td>1.167242</td>\n",
       "      <td>-0.766511</td>\n",
       "    </tr>\n",
       "    <tr>\n",
       "      <th>1</th>\n",
       "      <td>-1.364793</td>\n",
       "      <td>0.552483</td>\n",
       "      <td>0.469089</td>\n",
       "      <td>1.832049</td>\n",
       "      <td>0.447459</td>\n",
       "    </tr>\n",
       "    <tr>\n",
       "      <th>2</th>\n",
       "      <td>1.519049</td>\n",
       "      <td>1.320204</td>\n",
       "      <td>-0.667104</td>\n",
       "      <td>0.472766</td>\n",
       "      <td>0.447858</td>\n",
       "    </tr>\n",
       "    <tr>\n",
       "      <th>3</th>\n",
       "      <td>-1.110542</td>\n",
       "      <td>0.382313</td>\n",
       "      <td>0.318607</td>\n",
       "      <td>-0.286869</td>\n",
       "      <td>-0.292909</td>\n",
       "    </tr>\n",
       "    <tr>\n",
       "      <th>4</th>\n",
       "      <td>-0.609675</td>\n",
       "      <td>2.524271</td>\n",
       "      <td>-1.760126</td>\n",
       "      <td>1.428137</td>\n",
       "      <td>0.698046</td>\n",
       "    </tr>\n",
       "  </tbody>\n",
       "</table>\n",
       "</div>"
      ],
      "text/plain": [
       "          0         1         2         3         4\n",
       "0 -0.530732  1.621146 -0.126288  1.167242 -0.766511\n",
       "1 -1.364793  0.552483  0.469089  1.832049  0.447459\n",
       "2  1.519049  1.320204 -0.667104  0.472766  0.447858\n",
       "3 -1.110542  0.382313  0.318607 -0.286869 -0.292909\n",
       "4 -0.609675  2.524271 -1.760126  1.428137  0.698046"
      ]
     },
     "metadata": {},
     "output_type": "display_data"
    }
   ],
   "source": [
    "@interact(count=['5','10','15'])\n",
    "def render(count):\n",
    "    count = int(count)\n",
    "    data = np.random.randn(count, count)\n",
    "    display(pd.DataFrame(data))"
   ]
  }
 ],
 "metadata": {
  "kernelspec": {
   "display_name": "Python 2",
   "language": "python",
   "name": "python2"
  },
  "language_info": {
   "codemirror_mode": {
    "name": "ipython",
    "version": 2
   },
   "file_extension": ".py",
   "mimetype": "text/x-python",
   "name": "python",
   "nbconvert_exporter": "python",
   "pygments_lexer": "ipython2",
   "version": "2.7.10"
  },
  "urth": {
   "dashboard": {
    "cellMargin": 10,
    "defaultCellHeight": 20,
    "layoutStrategy": "packed",
    "maxColumns": 12
   }
  }
 },
 "nbformat": 4,
 "nbformat_minor": 0
}
