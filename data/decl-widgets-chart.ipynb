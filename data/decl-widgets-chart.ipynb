{
 "cells": [
  {
   "cell_type": "markdown",
   "metadata": {
    "urth": {
     "dashboard": {
      "layout": {
       "col": 0,
       "height": 3,
       "row": 0,
       "width": 12
      }
     }
    }
   },
   "source": [
    "# urth-viz-chart Examples"
   ]
  },
  {
   "cell_type": "markdown",
   "metadata": {
    "urth": {
     "dashboard": {
      "hidden": true
     }
    }
   },
   "source": [
    "#### Import dependencies"
   ]
  },
  {
   "cell_type": "code",
   "execution_count": 1,
   "metadata": {
    "collapsed": true,
    "urth": {
     "dashboard": {
      "hidden": true
     }
    }
   },
   "outputs": [],
   "source": [
    "import pandas as pd"
   ]
  },
  {
   "cell_type": "code",
   "execution_count": 2,
   "metadata": {
    "collapsed": false,
    "urth": {
     "dashboard": {
      "hidden": true
     }
    }
   },
   "outputs": [
    {
     "data": {
      "text/html": [
       "<link rel='import' href='urth_components/urth-viz-area/urth-viz-area.html' is='urth-core-import'>\n",
       "<link rel='import' href='urth_components/urth-viz-bar/urth-viz-bar.html' is='urth-core-import'>\n",
       "<link rel='import' href='urth_components/urth-viz-line/urth-viz-line.html' is='urth-core-import'>\n",
       "<link rel='import' href='urth_components/urth-viz-pie/urth-viz-pie.html' is='urth-core-import'>\n",
       "<link rel='import' href='urth_components/urth-viz-scatter/urth-viz-scatter.html' is='urth-core-import'>"
      ],
      "text/plain": [
       "<IPython.core.display.HTML object>"
      ]
     },
     "metadata": {},
     "output_type": "display_data"
    }
   ],
   "source": [
    "%%html\n",
    "<link rel='import' href='urth_components/urth-viz-area/urth-viz-area.html' is='urth-core-import'>\n",
    "<link rel='import' href='urth_components/urth-viz-bar/urth-viz-bar.html' is='urth-core-import'>\n",
    "<link rel='import' href='urth_components/urth-viz-line/urth-viz-line.html' is='urth-core-import'>\n",
    "<link rel='import' href='urth_components/urth-viz-pie/urth-viz-pie.html' is='urth-core-import'>\n",
    "<link rel='import' href='urth_components/urth-viz-scatter/urth-viz-scatter.html' is='urth-core-import'>"
   ]
  },
  {
   "cell_type": "markdown",
   "metadata": {
    "urth": {
     "dashboard": {
      "layout": {
       "col": 0,
       "height": 2,
       "row": 3,
       "width": 12
      }
     }
    }
   },
   "source": [
    "### Example 1 - create a bar chart with static JSON data"
   ]
  },
  {
   "cell_type": "code",
   "execution_count": 3,
   "metadata": {
    "collapsed": false,
    "urth": {
     "dashboard": {
      "layout": {
       "col": 0,
       "height": 18,
       "row": 5,
       "width": 12
      }
     }
    }
   },
   "outputs": [
    {
     "data": {
      "text/html": [
       "<urth-viz-bar xlabel=\"foo\" ylabel=\"bar\" id=\"c1\" datarows='[[\"a\",8,5],[\"b\",2,6],[\"c\",5,7]]' columns='[\"Index\",\"Series 1\",\"Series 2\"]'></urth-viz-bar>"
      ],
      "text/plain": [
       "<IPython.core.display.HTML object>"
      ]
     },
     "metadata": {},
     "output_type": "display_data"
    }
   ],
   "source": [
    "%%html\n",
    "<urth-viz-bar xlabel=\"foo\" ylabel=\"bar\" id=\"c1\" datarows='[[\"a\",8,5],[\"b\",2,6],[\"c\",5,7]]' columns='[\"Index\",\"Series 1\",\"Series 2\"]'></urth-viz-bar>"
   ]
  },
  {
   "cell_type": "markdown",
   "metadata": {
    "urth": {
     "dashboard": {
      "layout": {
       "col": 0,
       "height": 2,
       "row": 23,
       "width": 12
      }
     }
    }
   },
   "source": [
    "### Example 2 - create a line chart with static JSON data"
   ]
  },
  {
   "cell_type": "code",
   "execution_count": 4,
   "metadata": {
    "collapsed": false,
    "urth": {
     "dashboard": {
      "layout": {
       "col": 0,
       "height": 18,
       "row": 25,
       "width": 12
      }
     }
    }
   },
   "outputs": [
    {
     "data": {
      "text/html": [
       "<urth-viz-line datarows='[[1,8,5],[2,2,6],[3,5,7]]' columns='[\"Index\",\"Series 1\",\"Series 2\"]'></urth-viz-line>"
      ],
      "text/plain": [
       "<IPython.core.display.HTML object>"
      ]
     },
     "metadata": {},
     "output_type": "display_data"
    }
   ],
   "source": [
    "%%html\n",
    "<urth-viz-line datarows='[[1,8,5],[2,2,6],[3,5,7]]' columns='[\"Index\",\"Series 1\",\"Series 2\"]'></urth-viz-line>"
   ]
  },
  {
   "cell_type": "markdown",
   "metadata": {
    "urth": {
     "dashboard": {
      "layout": {
       "col": 0,
       "height": 2,
       "row": 43,
       "width": 12
      }
     }
    }
   },
   "source": [
    "### Example 3 - create a pie chart with static JSON data"
   ]
  },
  {
   "cell_type": "code",
   "execution_count": 5,
   "metadata": {
    "collapsed": false,
    "urth": {
     "dashboard": {
      "layout": {
       "col": 0,
       "height": 20,
       "row": 45,
       "width": 12
      }
     }
    }
   },
   "outputs": [
    {
     "data": {
      "text/html": [
       "<urth-viz-pie datarows='[[1,8,5],[2,2,6],[3,5,7]]' columns='[\"Index\",\"Series 1\",\"Series 2\"]'></urth-viz-pie>"
      ],
      "text/plain": [
       "<IPython.core.display.HTML object>"
      ]
     },
     "metadata": {},
     "output_type": "display_data"
    }
   ],
   "source": [
    "%%html\n",
    "<urth-viz-pie datarows='[[1,8,5],[2,2,6],[3,5,7]]' columns='[\"Index\",\"Series 1\",\"Series 2\"]'></urth-viz-pie>"
   ]
  },
  {
   "cell_type": "markdown",
   "metadata": {
    "urth": {
     "dashboard": {
      "layout": {
       "col": 0,
       "height": 2,
       "row": 65,
       "width": 12
      }
     }
    }
   },
   "source": [
    "### Example 4 - create a bar chart bound to a Pandas DataFrame using `<urth-core-dataframe>`"
   ]
  },
  {
   "cell_type": "markdown",
   "metadata": {
    "urth": {
     "dashboard": {
      "hidden": true
     }
    }
   },
   "source": [
    "Initial DataFrame:"
   ]
  },
  {
   "cell_type": "code",
   "execution_count": 6,
   "metadata": {
    "collapsed": true,
    "urth": {
     "dashboard": {
      "hidden": true
     }
    }
   },
   "outputs": [],
   "source": [
    "aDataFrame1 = pd.DataFrame([\n",
    "        [1, 10, 5],\n",
    "        [2, 2, 6],\n",
    "        [3, 5, 7]\n",
    "    ], columns=[\"Index\", \"Series 1\", \"Series 2\"]\n",
    ")"
   ]
  },
  {
   "cell_type": "markdown",
   "metadata": {
    "urth": {
     "dashboard": {
      "hidden": true
     }
    }
   },
   "source": [
    "Share the dataframe contents in the 'x' property.  urth-viz-chart assumes first column is 'x' remaining ones are 'y' series, for now"
   ]
  },
  {
   "cell_type": "code",
   "execution_count": 16,
   "metadata": {
    "collapsed": false,
    "urth": {
     "dashboard": {
      "layout": {
       "col": 0,
       "height": 19,
       "row": 67,
       "width": 12
      }
     }
    }
   },
   "outputs": [
    {
     "data": {
      "text/html": [
       "<template id=\"tpl1\" is=\"dom-bind\">\n",
       "    <urth-core-dataframe id=\"f1\" ref=\"aDataFrame1\" value=\"{{df}}\" auto></urth-core-dataframe>\n",
       "    <urth-viz-bar id='c2' datarows='{{df.data}}' columns='{{df.columns}}' selection='{{sel}}'></urth-viz-bar>\n",
       "    Selection is: \n",
       "        <ul>\n",
       "            <template is=\"dom-repeat\" items='{{sel}}'>\n",
       "                <li>x: <span>{{item.x}}</span> y: <span>{{item.y}}</span></li>\n",
       "            </template>\n",
       "        </ul>\n",
       "</template>"
      ],
      "text/plain": [
       "<IPython.core.display.HTML object>"
      ]
     },
     "metadata": {},
     "output_type": "display_data"
    }
   ],
   "source": [
    "%%html\n",
    "<template id=\"tpl1\" is=\"dom-bind\">\n",
    "    <urth-core-dataframe id=\"f1\" ref=\"aDataFrame1\" value=\"{{df}}\" auto></urth-core-dataframe>\n",
    "    <urth-viz-bar id='c2' datarows='{{df.data}}' columns='{{df.columns}}' selection='{{sel}}'></urth-viz-bar>\n",
    "    Selection is: \n",
    "        <ul>\n",
    "            <template is=\"dom-repeat\" items='{{sel}}'>\n",
    "                <li>x: <span>{{item.x}}</span> y: <span>{{item.y}}</span></li>\n",
    "            </template>\n",
    "        </ul>\n",
    "</template>"
   ]
  },
  {
   "cell_type": "markdown",
   "metadata": {
    "urth": {
     "dashboard": {
      "hidden": true
     }
    }
   },
   "source": [
    "Change the dataframe contents and chart will redraw"
   ]
  },
  {
   "cell_type": "code",
   "execution_count": 17,
   "metadata": {
    "collapsed": true,
    "urth": {
     "dashboard": {
      "hidden": true
     }
    }
   },
   "outputs": [],
   "source": [
    "aDataFrame1 = pd.DataFrame([\n",
    "        [1, 2, 5],\n",
    "        [2, 4, 4],\n",
    "        [3, 9, 3]\n",
    "    ], columns=[\"Index\", \"Series 1\", \"Series 2\"]\n",
    ")"
   ]
  },
  {
   "cell_type": "markdown",
   "metadata": {
    "urth": {
     "dashboard": {
      "hidden": true
     }
    }
   },
   "source": [
    "monitor read-only selection attribute"
   ]
  },
  {
   "cell_type": "code",
   "execution_count": 18,
   "metadata": {
    "collapsed": false,
    "urth": {
     "dashboard": {
      "layout": {
       "col": 0,
       "height": 2,
       "row": 86,
       "width": 12
      }
     }
    }
   },
   "outputs": [
    {
     "data": {
      "text/html": [
       "<script>\n",
       "c2.addEventListener('selection-changed', function(e) { s1.textContent = JSON.stringify(e.detail.value)});\n",
       "</script>\n",
       "<p>Selection: <span id=\"s1\"></span></p>"
      ],
      "text/plain": [
       "<IPython.core.display.HTML object>"
      ]
     },
     "metadata": {},
     "output_type": "display_data"
    }
   ],
   "source": [
    "%%html\n",
    "<script>\n",
    "c2.addEventListener('selection-changed', function(e) { s1.textContent = JSON.stringify(e.detail.value)});\n",
    "</script>\n",
    "<p>Selection: <span id=\"s1\"></span></p>"
   ]
  },
  {
   "cell_type": "markdown",
   "metadata": {
    "urth": {
     "dashboard": {
      "layout": {
       "col": 0,
       "height": 2,
       "row": 88,
       "width": 12
      }
     }
    }
   },
   "source": [
    "### Example 5 - specify which column to use for X axis"
   ]
  },
  {
   "cell_type": "code",
   "execution_count": 10,
   "metadata": {
    "collapsed": false,
    "urth": {
     "dashboard": {
      "layout": {
       "col": 0,
       "height": 18,
       "row": 90,
       "width": 12
      }
     }
    }
   },
   "outputs": [
    {
     "data": {
      "text/html": [
       "<urth-viz-line primary='2' datarows='[[1,8,5],[2,2,6],[3,5,7]]' columns='[\"Index\",\"Series 1\",\"Series 2\"]'></urth-viz-line>"
      ],
      "text/plain": [
       "<IPython.core.display.HTML object>"
      ]
     },
     "metadata": {},
     "output_type": "display_data"
    }
   ],
   "source": [
    "%%html\n",
    "<urth-viz-line primary='2' datarows='[[1,8,5],[2,2,6],[3,5,7]]' columns='[\"Index\",\"Series 1\",\"Series 2\"]'></urth-viz-line>"
   ]
  },
  {
   "cell_type": "markdown",
   "metadata": {
    "collapsed": true,
    "urth": {
     "dashboard": {
      "layout": {
       "col": 0,
       "height": 2,
       "row": 108,
       "width": 12
      }
     }
    }
   },
   "source": [
    "### Example 6 - rotate labels 45 degrees"
   ]
  },
  {
   "cell_type": "code",
   "execution_count": 11,
   "metadata": {
    "collapsed": false,
    "urth": {
     "dashboard": {
      "layout": {
       "col": 0,
       "height": 18,
       "row": 110,
       "width": 12
      }
     }
    }
   },
   "outputs": [
    {
     "data": {
      "text/html": [
       "<urth-viz-bar rotatelabels='45' datarows='[[\"a\",8,5],[\"b\",2,6],[\"c\",5,7]]' columns='[\"Index\",\"Series 1\",\"Series 2\"]'></urth-viz-bar>"
      ],
      "text/plain": [
       "<IPython.core.display.HTML object>"
      ]
     },
     "metadata": {},
     "output_type": "display_data"
    }
   ],
   "source": [
    "%%html\n",
    "<urth-viz-bar rotatelabels='45' datarows='[[\"a\",8,5],[\"b\",2,6],[\"c\",5,7]]' columns='[\"Index\",\"Series 1\",\"Series 2\"]'></urth-viz-bar>"
   ]
  },
  {
   "cell_type": "markdown",
   "metadata": {
    "collapsed": true,
    "urth": {
     "dashboard": {
      "layout": {
       "col": 0,
       "height": 2,
       "row": 128,
       "width": 12
      }
     }
    }
   },
   "source": [
    "### Example 7 - override colors"
   ]
  },
  {
   "cell_type": "code",
   "execution_count": 12,
   "metadata": {
    "collapsed": false,
    "urth": {
     "dashboard": {
      "layout": {
       "col": 0,
       "height": 18,
       "row": 130,
       "width": 12
      }
     }
    }
   },
   "outputs": [
    {
     "data": {
      "text/html": [
       "<urth-viz-bar \n",
       "   datarows='[[\"a\",8,5],[\"b\",2,6]]' \n",
       "   columns='[\"Index\",\"Series 1\",\"Series 2\"]' \n",
       "   palette='[\"green\",\"red\"]'\n",
       "></urth-viz-bar>"
      ],
      "text/plain": [
       "<IPython.core.display.HTML object>"
      ]
     },
     "metadata": {},
     "output_type": "display_data"
    }
   ],
   "source": [
    "%%html\n",
    "<urth-viz-bar \n",
    "   datarows='[[\"a\",8,5],[\"b\",2,6]]' \n",
    "   columns='[\"Index\",\"Series 1\",\"Series 2\"]' \n",
    "   palette='[\"green\",\"red\"]'\n",
    "></urth-viz-bar>"
   ]
  },
  {
   "cell_type": "markdown",
   "metadata": {
    "urth": {
     "dashboard": {
      "layout": {
       "col": 0,
       "height": 2,
       "row": 148,
       "width": 12
      }
     }
    }
   },
   "source": [
    "### Example 8 - columns with types"
   ]
  },
  {
   "cell_type": "code",
   "execution_count": 13,
   "metadata": {
    "collapsed": false,
    "urth": {
     "dashboard": {
      "layout": {
       "col": 0,
       "height": 18,
       "row": 150,
       "width": 12
      }
     }
    }
   },
   "outputs": [
    {
     "data": {
      "text/html": [
       "<urth-viz-line\n",
       "   datarows='[[\"2015-01-01T12:00\",8,5],[\"2015-03-01T12:00\",2,6],[\"2015-04-01T12:00\",5,7]]' \n",
       "   columns='[\"Index\",\"Series 1\",\"Series 2\"]'\n",
       ">\n",
       "  <urth-viz-col index=\"0\" type=\"date\" format=\"%b %d\"></urth-viz-col>\n",
       "  <urth-viz-col index=\"1\" type=\"numeric\" format=\"$,.2f\"></urth-viz-col>\n",
       "</urth-viz-line>"
      ],
      "text/plain": [
       "<IPython.core.display.HTML object>"
      ]
     },
     "metadata": {},
     "output_type": "display_data"
    }
   ],
   "source": [
    "%%html\n",
    "<urth-viz-line\n",
    "   datarows='[[\"2015-01-01T12:00\",8,5],[\"2015-03-01T12:00\",2,6],[\"2015-04-01T12:00\",5,7]]' \n",
    "   columns='[\"Index\",\"Series 1\",\"Series 2\"]'\n",
    ">\n",
    "  <urth-viz-col index=\"0\" type=\"date\" format=\"%b %d\"></urth-viz-col>\n",
    "  <urth-viz-col index=\"1\" type=\"numeric\" format=\"$,.2f\"></urth-viz-col>\n",
    "</urth-viz-line>\n"
   ]
  },
  {
   "cell_type": "markdown",
   "metadata": {
    "urth": {
     "dashboard": {
      "layout": {
       "col": 0,
       "height": 2,
       "row": 168,
       "width": 12
      }
     }
    }
   },
   "source": [
    "### Example 9 - urth-viz-chart base element"
   ]
  },
  {
   "cell_type": "markdown",
   "metadata": {
    "urth": {
     "dashboard": {
      "hidden": true
     }
    }
   },
   "source": [
    "The `urth-viz-chart` element is used for the implementation of several of the `urth-viz-*` elements which leverage the NVD3 library.  It is not intended to be used directly."
   ]
  },
  {
   "cell_type": "code",
   "execution_count": 14,
   "metadata": {
    "collapsed": false,
    "urth": {
     "dashboard": {
      "layout": {
       "col": 0,
       "height": 20,
       "row": 170,
       "width": 12
      }
     }
    }
   },
   "outputs": [
    {
     "data": {
      "text/html": [
       "<urth-viz-chart id=\"c9\" type=\"line\"\n",
       "   datarows='[[\"2015-01-01T12:00\",8,5],[\"2015-03-01T12:00\",2,6],[\"2015-04-01T12:00\",5,7]]' \n",
       "   columns='[\"Index\",\"Series 1\",\"Series 2\"]'\n",
       ">\n",
       "  <urth-viz-col index=\"0\" type=\"date\" format=\"%b %d\"></urth-viz-col>\n",
       "  <urth-viz-col index=\"1\" type=\"numeric\" format=\"$,.2f\"></urth-viz-col>\n",
       "</urth-viz-chart>"
      ],
      "text/plain": [
       "<IPython.core.display.HTML object>"
      ]
     },
     "metadata": {},
     "output_type": "display_data"
    }
   ],
   "source": [
    "%%html\n",
    "<urth-viz-chart id=\"c9\" type=\"line\"\n",
    "   datarows='[[\"2015-01-01T12:00\",8,5],[\"2015-03-01T12:00\",2,6],[\"2015-04-01T12:00\",5,7]]' \n",
    "   columns='[\"Index\",\"Series 1\",\"Series 2\"]'\n",
    ">\n",
    "  <urth-viz-col index=\"0\" type=\"date\" format=\"%b %d\"></urth-viz-col>\n",
    "  <urth-viz-col index=\"1\" type=\"numeric\" format=\"$,.2f\"></urth-viz-col>\n",
    "</urth-viz-chart>\n"
   ]
  },
  {
   "cell_type": "markdown",
   "metadata": {
    "urth": {
     "dashboard": {
      "hidden": true
     }
    }
   },
   "source": [
    "then change it to a bar chart"
   ]
  },
  {
   "cell_type": "code",
   "execution_count": 15,
   "metadata": {
    "collapsed": false,
    "urth": {
     "dashboard": {
      "hidden": true
     }
    }
   },
   "outputs": [
    {
     "data": {
      "text/html": [
       "<script>\n",
       "document.getElementById('c9').type='bar'\n",
       "</script>"
      ],
      "text/plain": [
       "<IPython.core.display.HTML object>"
      ]
     },
     "metadata": {},
     "output_type": "display_data"
    }
   ],
   "source": [
    "%%html\n",
    "<script>\n",
    "document.getElementById('c9').type='bar'\n",
    "</script>"
   ]
  }
 ],
 "metadata": {
  "kernelspec": {
   "display_name": "Python 3",
   "language": "python",
   "name": "python3"
  },
  "language_info": {
   "codemirror_mode": {
    "name": "ipython",
    "version": 3
   },
   "file_extension": ".py",
   "mimetype": "text/x-python",
   "name": "python",
   "nbconvert_exporter": "python",
   "pygments_lexer": "ipython3",
   "version": "3.4.4"
  },
  "urth": {
   "dashboard": {
    "cellMargin": 10,
    "defaultCellHeight": 20,
    "layoutStrategy": "stacked",
    "maxColumns": 12
   }
  }
 },
 "nbformat": 4,
 "nbformat_minor": 0
}
