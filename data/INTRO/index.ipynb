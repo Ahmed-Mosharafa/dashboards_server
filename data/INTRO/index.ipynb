{
 "cells": [
  {
   "cell_type": "markdown",
   "metadata": {
    "urth": {
     "dashboard": {
      "layout": {
       "col": 0,
       "height": 25,
       "row": 0,
       "width": 12
      }
     }
    }
   },
   "source": [
    "## Jupyter Dashboards Server\n",
    "\n",
    "The Jupyter Dashboards Server allows you to securely display dynamic dashboards created by Jupyter Notebook. The Dashboard Server talks to the same Jupyter kernels as the Notebook and supports many visual libraries, such as [Interactive HTML Widgets (ipywidgets)](https://github.com/ipython/ipywidgets), [Declarative Widgets](https://github.com/jupyter-incubator/declarativewidgets), [Bokeh](http://bokeh.pydata.org/en/latest/), [Plotly](https://plot.ly/), etc.\n",
    "\n",
    "In conjunction with other extensions, you can easily develop your analytics code within Notebook, create a dashboard to better visualize your results and deploy to this server.\n",
    "\n",
    "<img style=\"margin:0 auto;display:block;\" src=\"images/server_intro.png\">"
   ]
  },
  {
   "cell_type": "markdown",
   "metadata": {
    "urth": {
     "dashboard": {
      "hidden": true
     }
    }
   },
   "source": [
    "<!--associate:\n",
    "images/\n",
    "-->"
   ]
  },
  {
   "cell_type": "markdown",
   "metadata": {
    "urth": {
     "dashboard": {
      "layout": {
       "col": 0,
       "height": 3,
       "row": 25,
       "width": 12
      }
     }
    }
   },
   "source": [
    "### Adding Dashboards\n",
    "\n",
    "You can add dashboards to this server in several different ways:"
   ]
  },
  {
   "cell_type": "markdown",
   "metadata": {
    "urth": {
     "dashboard": {
      "layout": {
       "col": 0,
       "height": 4,
       "row": 28,
       "width": 12
      }
     }
    }
   },
   "source": [
    "#### Examples / Demos\n",
    "\n",
    "The [code repository](https://github.com/jupyter-incubator/dashboards_server) ships with a selection of test and demo dashboards which illustrate some of the supported features of the server. If you are running the server from the code repo, you can add these dashboards by running `make examples`."
   ]
  },
  {
   "cell_type": "markdown",
   "metadata": {
    "urth": {
     "dashboard": {
      "layout": {
       "col": 0,
       "height": 9,
       "row": 32,
       "width": 12
      }
     }
    }
   },
   "source": [
    "#### Creating Dynamic Dashboards\n",
    "\n",
    "<img style=\"float:right\" src=\"images/deploy_as_menu.png\">\n",
    "\n",
    "In order to create a dynamic dashboard for use with this server, you'll need to install the [Dynamic Dashboards](https://github.com/jupyter-incubator/dashboards) and [Dashboards Bundler](https://github.com/jupyter-incubator/dashboards_bundlers) extensions to your instance of Jupyter Notebook. Please read those pages for more detailed information.\n",
    "\n",
    "The Dynamic Dashboards extension allows you to hide unwanted cells and arrange the remainder in a grid or stacked layout. Once that's done, you can use the Bundlers extension to package and deploy the notebook and associated resources to the Dashboards Server. Simply select **File > Deploy as > Dashboard on Jupyter Dashboard Server** from within the Notebook."
   ]
  },
  {
   "cell_type": "markdown",
   "metadata": {
    "urth": {
     "dashboard": {
      "layout": {
       "col": 0,
       "height": 4,
       "row": 41,
       "width": 12
      }
     }
    }
   },
   "source": [
    "#### Upload Dashboards\n",
    "\n",
    "You can also directly upload a notebook file to the Dashboard Server. To view your notebook at (for example), `[host]/dashboards/hello`, you would submit the file using a `POST` request to `[host]/_api/notebooks/hello`. Read the [Server API docs](https://github.com/jupyter-incubator/dashboards_server/wiki/Server-API#upload-notebook) for more information."
   ]
  }
 ],
 "metadata": {
  "kernelspec": {
   "display_name": "Python 3",
   "language": "python",
   "name": "python3"
  },
  "language_info": {
   "codemirror_mode": {
    "name": "ipython",
    "version": 3
   },
   "file_extension": ".py",
   "mimetype": "text/x-python",
   "name": "python",
   "nbconvert_exporter": "python",
   "pygments_lexer": "ipython3",
   "version": "3.4.4"
  },
  "urth": {
   "dashboard": {
    "cellMargin": 10,
    "defaultCellHeight": 20,
    "layoutStrategy": "stacked",
    "maxColumns": 12
   }
  }
 },
 "nbformat": 4,
 "nbformat_minor": 0
}
