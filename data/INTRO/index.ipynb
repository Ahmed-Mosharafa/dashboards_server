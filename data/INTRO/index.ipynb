{
 "cells": [
  {
   "cell_type": "markdown",
   "metadata": {
    "extensions": {
     "jupyter_dashboards": {
      "version": 1,
      "views": {
       "grid_default": {
        "col": 0,
        "height": 16,
        "hidden": false,
        "row": 0,
        "width": 12
       },
       "report_default": {
        "hidden": false
       }
      }
     }
    }
   },
   "source": [
    "## Jupyter Dashboards Server\n",
    "\n",
    "<figure style=\"float:right;max-width:45%;\">\n",
    "    <img src=\"images/server_intro.png\">\n",
    "    <figcaption style=\"text-align: center;font-variant: small-caps;font-style: italic;\">Taxi demo dashboard (screenshot)</figcaption>\n",
    "</figure>\n",
    "\n",
    "The Jupyter Dashboards Server allows you to securely display dynamic dashboards created by Jupyter Notebook. The Dashboard Server talks to the same Jupyter kernels as the Notebook and supports many visual libraries, such as [Interactive HTML Widgets (ipywidgets)](https://github.com/ipython/ipywidgets), [Declarative Widgets](https://github.com/jupyter-incubator/declarativewidgets), [Matplotlib](http://matplotlib.org/), [Bokeh](http://bokeh.pydata.org/en/latest/), [Plotly](https://plot.ly/), etc.\n",
    "\n",
    "The Dashboards Server is part of the `jupyter-incubator/dashboards` effort which covers:\n",
    "* [Arranging](https://github.com/jupyter-incubator/dashboards) notebook outputs in a grid layout\n",
    "* [Bundling](https://github.com/jupyter-incubator/dashboards_bundlers) notebooks and associated assets for deployment as dashboards\n",
    "* [Serving](https://github.com/jupyter-incubator/dashboards_server) notebook-defined dashboards as standalone web apps (this server)\n",
    "\n",
    "By using these projects, you can easily develop your analytics code within Notebook, create a dashboard to better visualize your results and deploy to this server.\n",
    "\n",
    "<!-- <img style=\"margin:0 auto;display:block;\" src=\"images/server_intro.png\"> -->"
   ]
  },
  {
   "cell_type": "markdown",
   "metadata": {
    "extensions": {
     "jupyter_dashboards": {
      "version": 1,
      "views": {
       "grid_default": {
        "hidden": true
       },
       "report_default": {
        "hidden": false
       }
      }
     }
    }
   },
   "source": [
    "<!--associate:\n",
    "images/\n",
    "-->"
   ]
  },
  {
   "cell_type": "code",
   "execution_count": 1,
   "metadata": {
    "collapsed": false,
    "extensions": {
     "jupyter_dashboards": {
      "version": 1,
      "views": {
       "grid_default": {
        "col": 2,
        "height": 12,
        "hidden": false,
        "row": 16,
        "width": 10
       },
       "report_default": {
        "hidden": false
       }
      }
     }
    }
   },
   "outputs": [
    {
     "data": {
      "image/png": "[encoded data removed]",
      "text/plain": [
       "<matplotlib.figure.Figure at 0x7f05402136a0>"
      ]
     },
     "metadata": {},
     "output_type": "display_data"
    }
   ],
   "source": [
    "%matplotlib inline\n",
    "import matplotlib.pyplot as plt\n",
    "import numpy as np\n",
    "from ipywidgets import interact\n",
    "from IPython.display import display\n",
    "\n",
    "def beat_freq(f1=220.0, f2=224.0):\n",
    "    max_time = 3\n",
    "    rate = 8000\n",
    "    times = np.linspace(0,max_time,rate*max_time)\n",
    "    signal = np.sin(2*np.pi*f1*times) + np.sin(2*np.pi*f2*times)\n",
    "    plt.plot(signal)\n",
    "\n",
    "v = interact(beat_freq, f1=(200.0,300.0), f2=(200.0,300.0))"
   ]
  },
  {
   "cell_type": "markdown",
   "metadata": {
    "extensions": {
     "jupyter_dashboards": {
      "version": 1,
      "views": {
       "grid_default": {
        "col": 2,
        "height": 2,
        "hidden": false,
        "row": 28,
        "width": 10
       },
       "report_default": {
        "hidden": false
       }
      }
     }
    }
   },
   "source": [
    "<span style=\"font-style:italic;font-variant:small-caps;\">Live example of interactive widgets adapted from [Beat Frequencies demo](https://github.com/ipython/ipywidgets/blob/master/examples/Beat%20Frequencies.ipynb)</span>"
   ]
  },
  {
   "cell_type": "markdown",
   "metadata": {
    "extensions": {
     "jupyter_dashboards": {
      "version": 1,
      "views": {
       "grid_default": {
        "col": 0,
        "height": 31,
        "hidden": false,
        "row": 30,
        "width": 12
       },
       "report_default": {
        "hidden": false
       }
      }
     }
    }
   },
   "source": [
    "### Adding Dashboards\n",
    "\n",
    "You can add dashboards to this server in several different ways:\n",
    "\n",
    "#### Examples / Demos\n",
    "\n",
    "The [code repository](https://github.com/jupyter-incubator/dashboards_server) ships with a selection of test and demo dashboards which illustrate some of the supported features of the server. If you are running the server from the code repo, you can add these dashboards by running `make examples`.\n",
    "\n",
    "#### Creating Dynamic Dashboards\n",
    "\n",
    "<img style=\"float:right;max-width:50%;margin-top:1em;\" src=\"images/deploy_as_menu.png\">\n",
    "\n",
    "In order to create a dynamic dashboard for use with this server, you'll need to install the [Dynamic Dashboards](https://github.com/jupyter-incubator/dashboards) and [Dashboards Bundler](https://github.com/jupyter-incubator/dashboards_bundlers) extensions to your instance of Jupyter Notebook. Please read those pages for more detailed information.\n",
    "\n",
    "The Dynamic Dashboards extension allows you to hide unwanted cells and arrange the remainder in a grid or stacked layout. Once that's done, you can use the Bundlers extension to package and deploy the notebook and associated resources to the Dashboards Server. Simply select **File > Deploy as > Dashboard on Jupyter Dashboard Server** from within the Notebook.\n",
    "\n",
    "For more information and examples of Dynamic Dashboards, take a look the [introductory notebook](https://github.com/jupyter-incubator/dashboards/blob/master/etc/notebooks/index.ipynb) from the Dashboards extension.\n",
    "\n",
    "#### Upload Dashboards\n",
    "\n",
    "You can also directly upload a notebook file to the Dashboard Server. To view your notebook at (for example), `[host]/dashboards/hello`, you would submit the file using a `POST` request to `[host]/_api/notebooks/hello`. Read the [Server API docs](https://github.com/jupyter-incubator/dashboards_server/wiki/Server-API#upload-notebook) for more information."
   ]
  }
 ],
 "metadata": {
  "extensions": {
   "jupyter_dashboards": {
    "activeView": "grid_default",
    "version": 1,
    "views": {
     "grid_default": {
      "cellMargin": 10,
      "defaultCellHeight": 20,
      "layoutStrategy": "stacked",
      "maxColumns": 12,
      "name": "grid",
      "type": "grid"
     },
     "report_default": {
      "name": "report",
      "type": "report"
     }
    }
   }
  },
  "kernelspec": {
   "display_name": "Python 3",
   "language": "python",
   "name": "python3"
  },
  "language_info": {
   "codemirror_mode": {
    "name": "ipython",
    "version": 3
   },
   "file_extension": ".py",
   "mimetype": "text/x-python",
   "name": "python",
   "nbconvert_exporter": "python",
   "pygments_lexer": "ipython3",
   "version": "3.5.1"
  },
  "widgets": {
   "state": {},
   "version": "1.1.2"
  }
 },
 "nbformat": 4,
 "nbformat_minor": 0
}
